{
 "cells": [
  {
   "cell_type": "markdown",
   "metadata": {
    "raw_mimetype": "text/markdown"
   },
   "source": [
    "# L3-Mathématiques - Analyse Numérique S1 (LU3MA232)\n",
    "# TP1: Résolution d'EDO par la méthode d'Euler"
   ]
  },
  {
   "cell_type": "markdown",
   "metadata": {},
   "source": [
    "## I) Rappels de Python sur un cas d'étude\n",
    "\n",
    "### Introduction\n",
    "Dans cet exercice nous allons étudier la charge d'un condensateur dans un circuit RC. Le circuit RC est composé d'un générateur (de tension E), d'une résistance (de résistance R) et d'un condensateur (de capacitance C) tous reliés en série. \n",
    "\n",
    "La physique nous permet d'établir le système suivant sur la tension du condensateur au cours du temps:\n",
    "$$\n",
    "\\begin{cases}\n",
    "\\tau U'(t) + U(t) = E\\\\\n",
    "U(0) = U_0\n",
    "\\end{cases},\n",
    "$$\n",
    "avec $\\tau = RC$ (la constante de temps)."
   ]
  },
  {
   "cell_type": "markdown",
   "metadata": {},
   "source": [
    "### Question 1: Définir une fonction\n",
    "Il est facile de montrer (vous pouvez le faire) que la solution de ce problème de Cauchy pour $U_0=0$ est:\n",
    "$$U(t)=E(1-e^{-\\frac{t}{\\tau}}).$$\n",
    "\n",
    "\n",
    "Le premier exercice consiste à définir une fonction \"tension\" qui nous renvoie à un instant t la tension au bornes du condensateur."
   ]
  },
  {
   "cell_type": "markdown",
   "metadata": {},
   "source": [
    "1) Définissez et testez la fonction $U(t)$. \n",
    "\n",
    "2) Evaluez-la pour différentes valeurs de $\\tau$, E et d'un temps t:"
   ]
  },
  {
   "cell_type": "code",
   "execution_count": 1,
   "metadata": {
    "scrolled": true
   },
   "outputs": [
    {
     "name": "stdout",
     "output_type": "stream",
     "text": [
      "A t = 0s, U =  0.0 V\n",
      "A t = 10s, U =  0.10525922887515082 V\n"
     ]
    }
   ],
   "source": [
    "#On commence par appeler les librairies qui nous seront utiles\n",
    "#Ces librairies (bien connues en Python) contiennent diverses fonctions qui nous evitent de reinventer la roue...\n",
    "import numpy as np #sert entre autre a manipuler des vecteurs\n",
    "\n",
    "def tension(tau, E, temps):\n",
    "    U = E*(1.-np.exp(-temps/tau))\n",
    "    return U\n",
    "\n",
    "# Declaration des constantes physiques\n",
    "R = 47000 #[Ohm]\n",
    "C = 0.01 #[F]\n",
    "E = 5 #[V]\n",
    "tau = R*C\n",
    "\n",
    "U0 = tension(tau, E, 0.)# Evaluation de la tension pour un jeu de parametres\n",
    "U10 = tension(tau, E, 10.)# Evaluation de la tension pour un autre jeu de parametres\n",
    "\n",
    "# Affichage des resultats\n",
    "print('A t = 0s, U = ', U0, 'V')\n",
    "print('A t = 10s, U = ', U10, 'V')\n"
   ]
  },
  {
   "cell_type": "markdown",
   "metadata": {},
   "source": [
    "### Question 2: Tracer des courbes\n",
    "Plusieurs étapes sont nécessaires pour tracer une courbe:\n",
    "\n",
    "- Définir l'intervalle $[0,100]$ sur lequel on veut calculer la fonction.\n",
    "\n",
    "- Choisir une discrétisation (par exemple selon une des méthodes de la Question 2.\n",
    "\n",
    "- Evaluer la fonction aux différents temps de discrétisation.\n",
    "\n",
    "- Afficher la ligne brisée des points $(t_i, y(t_i))_{i=0,\\ldots,N}$.\n",
    "\n",
    "- Ajouter de l'information au graphique pour faciliter la lecture (ex: légende, nom aux axes,...).\n",
    "\n",
    "***Remarque:*** Notez que plus la discrétisation est fine plus la courbe est lisse (aspect \"continu\"). En revanche en pratique, une discrétisation trop fine pourra induire des temps de calculs très longs."
   ]
  },
  {
   "cell_type": "markdown",
   "metadata": {},
   "source": [
    "Tracez sur le même graphique $U(t), t\\in[0,100]$ pour différentes valeurs de $\\tau$ et E. On pourra par exemple créer un tableau $\\tau = [\\tau_0, \\ldots, \\tau_n]$ et $E = [E_0, \\ldots E_m]$ contenant les différents couples de valeurs de $\\tau$ et E à évaluer."
   ]
  },
  {
   "cell_type": "code",
   "execution_count": 5,
   "metadata": {},
   "outputs": [
    {
     "data": {
      "image/png": "[encoded data removed]",
      "text/plain": [
       "<Figure size 432x288 with 1 Axes>"
      ]
     },
     "metadata": {
      "needs_background": "light"
     },
     "output_type": "display_data"
    }
   ],
   "source": [
    "import matplotlib.pyplot as plt\n",
    "\n",
    "temps = np.linspace(0., 100., 1000)# discretisation de notre intervalle de temps\n",
    "\n",
    "tau = np.array([10.0, 50.0])# [s] 2 valeurs tests pour tau\n",
    "E = np.array([5, 10])# [V] 2 valeurs tests pour E\n",
    "\n",
    "\n",
    "fig = plt.figure()# Creation de la figure\n",
    "ax = fig.add_subplot(111)# Ajout d un graphique a la figure\n",
    "\n",
    "for itau in tau:# On parcourt les differentes valeurs de tau\n",
    "    for iE in E:# On parcourt les differentes valeurs de E\n",
    "        U_ = tension(itau, iE, temps)# On evalue la tension\n",
    "        ax.plot(temps, U_, label=r'$\\tau=$'+str(itau)+', $E=$'+str(iE))# On ajoute le trace au graphique\n",
    "ax.legend(ncol=2)# Ajout de la legende\n",
    "\n",
    "# Ajout du nom des axes\n",
    "ax.set_xlabel('Temps [s]')\n",
    "ax.set_ylabel('Amplitude [V]')\n",
    "\n",
    "plt.show()"
   ]
  },
  {
   "cell_type": "markdown",
   "metadata": {},
   "source": [
    "### Question 3: Calculer une solution approchée d'une EDO\n",
    "On se propose de résoudre numériquement l'EDO par la méthode \"Euler explicite\" (vue en TD):\n",
    "$$\n",
    "y_{i+1} = y_i + (t_{i+1}-t_i)f(t_i, y_i), \\quad i\\in [0, n-1].\n",
    "$$\n",
    "\n",
    "où, ici, $n$ correspond à la taille du tableau discrétisé du temps.\n",
    "\n",
    "Dans le cas de notre application, nous avons:\n",
    "\n",
    "$$\n",
    "U_{i+1} = U_i + (t_{i+1}-t_i)f(t_i, U_i).\n",
    "$$\n",
    "\n",
    "En reprenant l'EDO définie en tout début d'exercice, on peut montrer que:\n",
    "\n",
    "$$\n",
    "f(t_i, U_i) = \\frac{E-U_i}{\\tau}.\n",
    "$$\n",
    "\n",
    "1) Ecrivez la fonction qui prend en paramètres la condition initiale ($U_0=0$), $\\tau$, E ainsi que le vecteur temps discrétisé et qui retourne la solution approchée de l'EDO aux différents temps."
   ]
  },
  {
   "cell_type": "code",
   "execution_count": 6,
   "metadata": {},
   "outputs": [],
   "source": [
    "def EulerExp_U(u_0, tau, E, temps):\n",
    "    u_ = np.zeros(len(temps))# Initialisation du vecteur tension\n",
    "    u_[0] = u_0# Affectation de la condition initiale (remarquez que si u_0=0, cette ligne est inutile)\n",
    "    \n",
    "    for nt in range(len(temps)-1):\n",
    "        idt = temps[nt+1]-temps[nt]# Pas de temps\n",
    "        u_[nt+1] = u_[nt]+idt*((E-u_[nt])/tau)\n",
    "    return u_"
   ]
  },
  {
   "cell_type": "markdown",
   "metadata": {},
   "source": [
    "2) Déclarez un tableau contenant le temps discrétisé.\n",
    "\n",
    "3) Evaluez la solution exacte sur votre temps discrétisé (vous pouvez utiliser la fonction que vous avez définie à la question 1).\n",
    "\n",
    "4) Evaluez la solution approchée sur votre temps discrétisé.\n",
    "\n",
    "5) Comparez les résultats obtenus sur une figure."
   ]
  },
  {
   "cell_type": "code",
   "execution_count": 7,
   "metadata": {
    "scrolled": true
   },
   "outputs": [
    {
     "data": {
      "text/plain": [
       "[<matplotlib.lines.Line2D at 0x1f88b0f30c8>]"
      ]
     },
     "execution_count": 7,
     "metadata": {},
     "output_type": "execute_result"
    },
    {
     "data": {
      "image/png": "[encoded data removed]",
      "text/plain": [
       "<Figure size 432x288 with 1 Axes>"
      ]
     },
     "metadata": {
      "needs_background": "light"
     },
     "output_type": "display_data"
    }
   ],
   "source": [
    "tau = 0.1\n",
    "E = 5.\n",
    "\n",
    "temps = np.linspace(0., 1., 50)\n",
    "\n",
    "u_exacte = tension(tau, E, temps)\n",
    "u_approchee = EulerExp_U(0., tau, E, temps)\n",
    "\n",
    "fig = plt.figure()\n",
    "ax = fig.add_subplot(111)\n",
    "\n",
    "ax.plot(temps, u_exacte)\n",
    "ax.plot(temps, u_approchee)"
   ]
  },
  {
   "cell_type": "markdown",
   "metadata": {},
   "source": [
    "6) Vous pouvez réitérer le processus en augmentant ou diminuant la taille de votre tableau de temps discrétisé (en changeant le pas de discrétisation ou le nombre de points désirés). Qu'observez-vous?"
   ]
  },
  {
   "cell_type": "markdown",
   "metadata": {},
   "source": [
    "### Question 4: Retrouver l'ordre de la méthode Euleur explicite\n",
    "La schéma Euler explicite est connu pour être une méthode d'ordre 1. Nous allons le vérifier numériquement.\n",
    "<br/> Déclarer un tableau contenant différents pas de discrétisation (ordonné dans l'ordre croissant). Par exemple de $0.01$ à $0.1$ avec un facteur $2$ entre chaque pas de temps.\n",
    "<br/> Pour chaque pas de temps:\n",
    "\n",
    "1) Créez le tableau de temps discrétisé.\n",
    "\n",
    "2) Evaluez la solution exacte et approchée de l'EDO.\n",
    "\n",
    "3) Calculez l'erreur et stockez-la dans un tableau.\n",
    "\n",
    "On rappelle que l'erreur est:\n",
    "        $$\n",
    "            e = max_i(|u_{exacte}(t_i)-u_{approchee}(t_i)|).\n",
    "        $$\n",
    "\n",
    "4) Affichez l'erreur en fonction du pas de temps avec une échelle logarithmique.\n",
    "<br/> Cela vient du fait que: $e = Ch^p$. En passant en échelle logarithmique, on va retrouver p comme étant la valeur de la pente!\n",
    "<br/>Pour l'échelle logarithmique, on pourra utiliser loglog() au lieu de plot()."
   ]
  },
  {
   "cell_type": "code",
   "execution_count": 9,
   "metadata": {},
   "outputs": [
    {
     "data": {
      "text/plain": [
       "[<matplotlib.lines.Line2D at 0x1f88a429448>]"
      ]
     },
     "execution_count": 9,
     "metadata": {},
     "output_type": "execute_result"
    },
    {
     "data": {
      "image/png": "[encoded data removed]",
      "text/plain": [
       "<Figure size 432x288 with 1 Axes>"
      ]
     },
     "metadata": {
      "needs_background": "light"
     },
     "output_type": "display_data"
    }
   ],
   "source": [
    "steps = [0.01, 0.02, 0.04, 0.06, 0.08, 0.1]\n",
    "\n",
    "err = []\n",
    "\n",
    "for istep in steps:\n",
    "    \n",
    "    temps = np.arange(0., 1., istep)\n",
    "    \n",
    "    u_exacte = tension(0.1, 5., temps)\n",
    "    u_app = EulerExp_U(0., 0.1, 5., temps)\n",
    "    \n",
    "    ierr = np.max(np.abs(u_exacte-u_app))\n",
    "    err.append(ierr)\n",
    "\n",
    "fig = plt.figure()\n",
    "ax = fig.add_subplot(111)\n",
    "ax.loglog(steps, err)\n",
    "\n",
    "#Pourquoi on passe en echelle log :\n",
    "#Si erreur = C h^p alors\n",
    "#log (erreur )  = log(C h^p ) = p *log(C h) = p log (C) + p log(h)\n",
    "#Donc si on note y = log (erreur) et x=log(h), on a bien\n",
    "#y= Cst + p *x\n",
    "#Donc l'ordre de la méthode est le coéfficient directeur de la droite de la courbe log log entre l'erreur et le pas de temps"
   ]
  },
  {
   "cell_type": "markdown",
   "metadata": {},
   "source": [
    "Afin d'approximer la pente de cette courbe, on peut utiliser la fonction polyfit() de numpy. Cette fonction permet d'approcher un ensemble de points par un polynôme de degré m en retournant ses coefficients polynomiaux.\n",
    "\n",
    "5) A partir de la documentation numpy de la fonction polyfit(), quelle pente obtenez-vous?"
   ]
  },
  {
   "cell_type": "code",
   "execution_count": 11,
   "metadata": {},
   "outputs": [
    {
     "name": "stdout",
     "output_type": "stream",
     "text": [
      "[1.2626517 3.3746418]\n"
     ]
    }
   ],
   "source": [
    "print(np.polyfit(np.log(steps), np.log(err), 1))"
   ]
  },
  {
   "cell_type": "markdown",
   "metadata": {},
   "source": [
    "## II) Vitesse d'un corps, méthode implicite vs explicite"
   ]
  },
  {
   "cell_type": "markdown",
   "metadata": {},
   "source": [
    "### Introduction\n",
    "\n",
    "Nous nous penchons à présent sur un problème bien connu de la mécanique newtonienne : la chute d'un corps de masse m sous l'effet d'un potentiel gravitationnel g(t). Si la chute se produit dans l'air ambiant, on pourra négliger la poussée d'Archimède, mais pas la force de frottement liée à la vitesse v du corps. On suppose que les forces de frottements peuvent se mettre sous la forme : $f = - \\alpha v$, s'opposant ainsi au mouvement. Le second principe de la dynamique nous donne alors, dans la direction parallèle au potentiel graviatationnel $\\vec{g}(t)$ :\n",
    "\n",
    "$$\n",
    "m \\frac{d v}{dt} = m g(t) - \\alpha v\n",
    "$$\n",
    "\n",
    "De la même façon que précédemment, il est facile de montrer que, dans le cas d'une gravité constante $g(t) = g_0$, et pour un corps initialement lancé à la vitesse $v(0)=v_0$, on obtient la solution suivante :\n",
    "\n",
    "$$\n",
    "v(t) = \\frac{mg_0}{\\alpha} \\left(1-e^{-\\frac{\\alpha}{m}t} \\right) + v_0 e^{-\\frac{\\alpha}{m}t}\n",
    "$$\n",
    "\n",
    "Dans le cas où g(t) présente une dépendance explicite en temps, la méthode de variation de la constante permet de trouver la solution générale du problème. Supposons ainsi que l'on ait :\n",
    "\n",
    "$$\n",
    "g(t) = g_0 e^{-t \\frac{\\alpha}{m}}\n",
    "$$\n",
    "​\n",
    "on a alors la solution du problème sous la forme :\n",
    "​\n",
    "$$\n",
    "v(t) = (g_0 t + v_0) e^{-\\frac{\\alpha}{m}t}\n",
    "$$"
   ]
  },
  {
   "cell_type": "markdown",
   "metadata": {},
   "source": [
    "### Question 5 : Méthode explicite\n",
    "\n",
    "De la même façon que pour la première partie de cet exercice, écrivez le code permettant de résoudre explicitement l'équation du mouvement, dans les cas où la gravité est constante (peut être nulle) ou dépendante du temps, ainsi que de comparer les solutions numériques aux solutions analytiques. Y a-t-il des différences numériques avec l'équation de la décharge d'un condensateur (ordre de la méthode, précision, ...) ?"
   ]
  },
  {
   "cell_type": "code",
   "execution_count": 10,
   "metadata": {},
   "outputs": [
    {
     "data": {
      "text/plain": [
       "<matplotlib.legend.Legend at 0x7fb1421c7bd0>"
      ]
     },
     "execution_count": 10,
     "metadata": {},
     "output_type": "execute_result"
    },
    {
     "data": {
      "image/png": "[encoded data removed]",
      "text/plain": [
       "<matplotlib.figure.Figure at 0x7fb14224a7d0>"
      ]
     },
     "metadata": {
      "needs_background": "light"
     },
     "output_type": "display_data"
    }
   ],
   "source": [
    "def analytique_gconst(v_0,m,alpha,g_0,temps) :\n",
    "    v = (m*g_0/alpha) * (1-np.exp(-temps*(alpha/m))) + v_0 * np.exp(-temps*(alpha/m))\n",
    "    return v\n",
    "\n",
    "def analytique_gnonconst(v_0,m,alpha,g_0,temps) :\n",
    "    v = (g_0 * temps + v_0) * np.exp(-temps*(alpha/m))\n",
    "    return v\n",
    "\n",
    "#### A  noter : On peut aussi créer une unique fonction g = g0 + g1 exp(...) avec deux parametres g0 et g1 qui sont nuls \n",
    "#### selon la situation\n",
    "\n",
    "def gravity(g_0, temps, m, alpha, param) :\n",
    "    g = np.zeros(len(temps)) # Initialisation du vecteur gravité\n",
    "    \n",
    "    if (param == 'nonconstante') :\n",
    "        for nt in range(len(temps)) :\n",
    "            g[nt] = g_0 * np.exp(-(alpha/m)*temps[nt]) \n",
    "    else :\n",
    "        for nt in range(len(temps)) :\n",
    "            g[nt] = g_0\n",
    "            \n",
    "    return g\n",
    "    \n",
    "def EulerExp_v(v_0, m, alpha, g_0, param, temps) :\n",
    "    v = np.zeros(len(temps)) # Initialisation du vecteur vitesse\n",
    "    v[0] = v_0 # Affectation de la condition initiale \n",
    "    \n",
    "    g = gravity(g_0,temps,m,alpha,param)\n",
    "    \n",
    "    for nt in range(len(temps)-1):\n",
    "        idt = temps[nt+1]-temps[nt]# Pas de temps\n",
    "        v[nt+1] = v[nt]+idt*(g[nt]-(v[nt]*alpha/m))\n",
    "    return v\n",
    "\n",
    "# Declaration des variables : Vous pouvez choisir de conserver un système d'unité différent et des valeurs différentes\n",
    "\n",
    "v_0 = 0.2 # [m/s]\n",
    "m = 1. # [kg] \n",
    "alpha = 10. # [kg/m] \n",
    "g_0 = 9.88 # [m/s^2]\n",
    "param = 'nonconstante'\n",
    "\n",
    "temps = np.linspace(0., 2., 100)\n",
    "\n",
    "v_exacte_gconstante = analytique_gconst(v_0,m,alpha,g_0,temps)\n",
    "v_exacte = analytique_gnonconst(v_0,m,alpha,g_0,temps)\n",
    "v_approchee = EulerExp_v(v_0, m, alpha, g_0, param, temps)\n",
    "\n",
    "fig = plt.figure()\n",
    "ax = fig.add_subplot(111)\n",
    "\n",
    "ax.plot(temps, v_exacte, label='Exacte')\n",
    "ax.plot(temps, v_approchee, label='Approchee')\n",
    "# Ajout du nom des axes\n",
    "ax.set_xlabel('Temps (s)')\n",
    "ax.set_ylabel('Vitesse (m/s)')\n",
    "ax.legend()"
   ]
  },
  {
   "cell_type": "markdown",
   "metadata": {},
   "source": [
    "### Question 6 : Méthode implicite\n",
    "\n",
    "La méthode d'Euler implicite consiste à chercher la valeur approchée de la solution à l'instant $t_{i+1}$, et non plus à l'instant $t_i$ comme pour la méthode explicite, avec la relation suivante :\n",
    "\n",
    "$$\n",
    "y_{i+1} = y_i + \\Delta t f(t_{i+1}, y_{i+1}), \\quad i\\in [0, n-1].\n",
    "$$\n",
    "\n",
    "où $n$ correspond toujours à la taille du tableau discrétisé en temps. Dans le cas où l'on supprime complètement la force de gravité, quelle est la forme de la fonction f ?\n",
    "\n",
    "$$\n",
    "f(t_{i+1}, v_{i+1}) = - v_{i+1} \\frac{\\alpha}{m}\n",
    "$$\n",
    "\n",
    "Cette méthode implicite présente certains avantages (stabilité) et inconvénients (temps de calcul) (voir Cours, TD). En particulier, il est nécessaire de résoudre, à chaque pas de temps, une nouvelle équation. Cependant, comme vous l'avez vu, ce cas particulier est un des rares cas où la résolution de ce schéma implicite peut se faire, paradoxalement, explicitement. On obtient :\n",
    "\n",
    "$$\n",
    "v_n = \\frac{v_0}{\\left(1 + \\frac{\\alpha}{m} \\Delta t \\right)^n}\n",
    "$$\n",
    "\n",
    "Obtenez numériquement cette solution, à comparer avec la solution analytique sans second membre. Evaluez l'impact du pas de temps sur la résolution. Evaluez également l'impact du facteur $\\frac{\\alpha}{m}$."
   ]
  },
  {
   "cell_type": "code",
   "execution_count": 46,
   "metadata": {},
   "outputs": [
    {
     "data": {
      "text/plain": [
       "Text(0, 0.5, 'Vitesse (m/s)')"
      ]
     },
     "execution_count": 46,
     "metadata": {},
     "output_type": "execute_result"
    },
    {
     "data": {
      "image/png": "[encoded data removed]",
      "text/plain": [
       "<Figure size 432x288 with 1 Axes>"
      ]
     },
     "metadata": {
      "needs_background": "light"
     },
     "output_type": "display_data"
    }
   ],
   "source": [
    "def EulerImp_v(v_0, m, alpha, g_0, param, temps) :\n",
    "    v = np.zeros(len(temps)) # Initialisation du vecteur vitesse\n",
    "    v[0] = v_0 # Affectation de la condition initiale \n",
    "    \n",
    "    g = gravity(g_0,temps,m,alpha,param)\n",
    "    \n",
    "    for nt in range(len(temps)):\n",
    "        idt = temps[nt]-temps[nt-1]# Pas de temps\n",
    "        v[nt] = v[0]/((1+(alpha*idt/m))**nt)\n",
    "    return v\n",
    "\n",
    "# Declaration des variables : Vous pouvez choisir de conserver un système d'unité différent et des valeurs différentes\n",
    "\n",
    "v_0 = 0.2 # [m/s]\n",
    "m = 1. # [kg] \n",
    "alpha = 10. # [kg/m] \n",
    "g_0 = 0. # [m/s^2]\n",
    "param = 'constante'\n",
    "\n",
    "temps = np.linspace(0., 2., 100)\n",
    "\n",
    "v_exacte_gnulle = analytique_gconst(v_0,m,alpha,g_0,temps)\n",
    "v_approchee = EulerImp_v(v_0, m, alpha, g_0, param, temps)\n",
    "\n",
    "fig = plt.figure()\n",
    "ax = fig.add_subplot(111)\n",
    "\n",
    "\n",
    "ax.plot(temps, v_exacte_gnulle)\n",
    "ax.plot(temps, v_approchee)\n",
    "# Ajout du nom des axes\n",
    "ax.set_xlabel('Temps (s)')\n",
    "ax.set_ylabel('Vitesse (m/s)')"
   ]
  },
  {
   "cell_type": "markdown",
   "metadata": {},
   "source": [
    "### Question 7 : Comparaison\n",
    "\n",
    "Qu'apporte, selon vous, la résolution implicite ? Comment auriez-vous procédé pour la résolution implicite dans le cas où un second membre dépendant du temps était présent ?"
   ]
  },
  {
   "cell_type": "code",
   "execution_count": null,
   "metadata": {},
   "outputs": [],
   "source": []
  }
 ],
 "metadata": {
  "celltoolbar": "Format de la Cellule Texte Brut",
  "kernelspec": {
   "display_name": "Python 3",
   "language": "python",
   "name": "python3"
  },
  "language_info": {
   "codemirror_mode": {
    "name": "ipython",
    "version": 3
   },
   "file_extension": ".py",
   "mimetype": "text/x-python",
   "name": "python",
   "nbconvert_exporter": "python",
   "pygments_lexer": "ipython3",
   "version": "3.7.4"
  }
 },
 "nbformat": 4,
 "nbformat_minor": 4
}
